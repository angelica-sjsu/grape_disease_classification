{
 "cells": [
  {
   "cell_type": "markdown",
   "metadata": {},
   "source": [
    "Tasks:\n",
    "1. read the mat file containing training data\n",
    "2. create a list of image names\n",
    "3. given the image name, find them and put them in the right class folder. \n",
    "\n",
    "the images in folders will then be used for augmentation and eventually, the images will be unified to create a dataset: image-labels."
   ]
  },
  {
   "cell_type": "code",
   "execution_count": 1,
   "metadata": {},
   "outputs": [],
   "source": [
    "import matplotlib.pyplot as plt\n",
    "import numpy as np\n",
    "import os\n",
    "from PIL import Image\n",
    "from scipy.io import loadmat\n",
    "from shutil import copyfile\n",
    "import tensorflow as tf\n",
    "from tensorflow.keras.preprocessing.image import ImageDataGenerator,array_to_img, img_to_array, load_img "
   ]
  },
  {
   "cell_type": "code",
   "execution_count": 2,
   "metadata": {},
   "outputs": [],
   "source": [
    "# read mat file\n",
    "matfile = loadmat(\"data_training_color.mat\")"
   ]
  },
  {
   "cell_type": "code",
   "execution_count": 3,
   "metadata": {},
   "outputs": [],
   "source": [
    "# create a list for each class and their image name\n",
    "hl_list = []\n",
    "esca_list = []\n",
    "rot_list = []\n",
    "blight_list = []"
   ]
  },
  {
   "cell_type": "code",
   "execution_count": 4,
   "metadata": {},
   "outputs": [],
   "source": [
    "# iterate the content of matfile\n",
    "for img_name, label in zip(matfile['file_names'], matfile['y']):\n",
    "    if \"Black_Rot\" in label:\n",
    "        rot_list.append(img_name)\n",
    "    elif \"Esca\" in label:\n",
    "        esca_list.append(img_name)\n",
    "    elif \"Leaf_Blight\" in label:\n",
    "        blight_list.append(img_name)\n",
    "    else:\n",
    "        hl_list.append(img_name)"
   ]
  },
  {
   "cell_type": "code",
   "execution_count": 5,
   "metadata": {},
   "outputs": [],
   "source": [
    "# define the path for the folders that will contain the images\n",
    "# images will act as parent dir for all the following dirs. \n",
    "image_path = \"images/\"\n",
    "hl_dest= \"healthy/\"\n",
    "esca_dest = \"esca/\"\n",
    "rot_dest = \"rot/\"\n",
    "blight_dest = \"blight/\""
   ]
  },
  {
   "cell_type": "code",
   "execution_count": null,
   "metadata": {},
   "outputs": [],
   "source": [
    "def create_dirs(path):\n",
    "    try:\n",
    "        os.mkdir(path)\n",
    "    except OSError:\n",
    "        print (\"Creation of the directory %s failed\" % path)\n",
    "    else:\n",
    "        print (\"Successfully created the directory %s \" % path)"
   ]
  },
  {
   "cell_type": "code",
   "execution_count": null,
   "metadata": {},
   "outputs": [],
   "source": [
    "create_dirs(image_path)"
   ]
  },
  {
   "cell_type": "code",
   "execution_count": null,
   "metadata": {},
   "outputs": [],
   "source": [
    "create_dirs(image_path+'/'+hl_path)"
   ]
  },
  {
   "cell_type": "code",
   "execution_count": null,
   "metadata": {},
   "outputs": [],
   "source": [
    "create_dirs(image_path+'/'+esca)"
   ]
  },
  {
   "cell_type": "code",
   "execution_count": null,
   "metadata": {},
   "outputs": [],
   "source": [
    "create_dirs(image_path+'/'+rot)"
   ]
  },
  {
   "cell_type": "code",
   "execution_count": null,
   "metadata": {},
   "outputs": [],
   "source": [
    "create_dirs(image_path+'/'+blight)"
   ]
  },
  {
   "cell_type": "code",
   "execution_count": 6,
   "metadata": {},
   "outputs": [],
   "source": [
    "# define source path of every images to be copied in the newly created folders\n",
    "parent = f'PlantVillage-Dataset-master/raw/color/'\n",
    "hl_src = f'Grape___healthy/'\n",
    "rot_src = 'Grape___Black_rot/'\n",
    "esca_src = f'Grape___Esca_(Black_Measles)/'\n",
    "blight_src = f'Grape___Leaf_blight_(Isariopsis_Leaf_Spot)/'"
   ]
  },
  {
   "cell_type": "code",
   "execution_count": null,
   "metadata": {},
   "outputs": [],
   "source": [
    "def copy_images(image_names, src, dest):\n",
    "    for name in image_names:\n",
    "        name = name.rstrip()\n",
    "        copyfile(os.path.join(src,name),\n",
    "                 os.path.join(dest,name))"
   ]
  },
  {
   "cell_type": "code",
   "execution_count": null,
   "metadata": {},
   "outputs": [],
   "source": [
    "src = os.path.join(parent, hl_src)\n",
    "dest = os.path.join(image_path, hl_dest)\n",
    "copy_images(hl_list, src, dest)"
   ]
  },
  {
   "cell_type": "code",
   "execution_count": null,
   "metadata": {},
   "outputs": [],
   "source": [
    "copy_images(esca_list, \n",
    "           os.path.join(parent, esca_src),\n",
    "           os.path.join(image_path, esca_dest))"
   ]
  },
  {
   "cell_type": "code",
   "execution_count": null,
   "metadata": {},
   "outputs": [],
   "source": [
    "copy_images(rot_list, \n",
    "           os.path.join(parent, rot_src),\n",
    "           os.path.join(image_path, rot_dest))"
   ]
  },
  {
   "cell_type": "code",
   "execution_count": null,
   "metadata": {},
   "outputs": [],
   "source": [
    "copy_images(blight_list, \n",
    "           os.path.join(parent, blight_src),\n",
    "           os.path.join(image_path, blight_dest))"
   ]
  },
  {
   "cell_type": "code",
   "execution_count": 15,
   "metadata": {},
   "outputs": [],
   "source": []
  }
 ],
 "metadata": {
  "kernelspec": {
   "display_name": "Python 3",
   "language": "python",
   "name": "python3"
  },
  "language_info": {
   "codemirror_mode": {
    "name": "ipython",
    "version": 3
   },
   "file_extension": ".py",
   "mimetype": "text/x-python",
   "name": "python",
   "nbconvert_exporter": "python",
   "pygments_lexer": "ipython3",
   "version": "3.7.4"
  }
 },
 "nbformat": 4,
 "nbformat_minor": 2
}
