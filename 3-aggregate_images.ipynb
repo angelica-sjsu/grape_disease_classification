{
 "cells": [
  {
   "cell_type": "code",
   "execution_count": 1,
   "metadata": {},
   "outputs": [],
   "source": [
    "import cv2\n",
    "import matplotlib.pyplot as plt\n",
    "import numpy as np\n",
    "import os\n",
    "import pickle\n",
    "import random"
   ]
  },
  {
   "cell_type": "code",
   "execution_count": 7,
   "metadata": {},
   "outputs": [],
   "source": [
    "datadir = \"images\"\n",
    "folders = ['augmented_blight', \n",
    "           'augmented_esca', \n",
    "           'augmented_hl', \n",
    "           'augmented_rot']\n",
    "categories = ['blight',\n",
    "             'esca',\n",
    "             'healthy',\n",
    "             'black_rot']"
   ]
  },
  {
   "cell_type": "code",
   "execution_count": 21,
   "metadata": {},
   "outputs": [],
   "source": [
    "# open images and create lists\n",
    "def create_set(folders=folders, categories=categories):\n",
    "    \n",
    "    training_data = []\n",
    "    \n",
    "    for fl, cat in zip(folders, categories):\n",
    "        path = os.path.join(datadir, fl)\n",
    "        for img in os.listdir(path):\n",
    "            try:\n",
    "                img_array = cv2.imread(os.path.join(path, img))\n",
    "                training_data.append([img_array, cat])\n",
    "            except Exception as e:\n",
    "                print(\"Error in reading image\")\n",
    "                \n",
    "    return training_data"
   ]
  },
  {
   "cell_type": "code",
   "execution_count": 18,
   "metadata": {},
   "outputs": [],
   "source": [
    "# save list as pickle file\n",
    "def pickle_saver(iterator, pickle_name):\n",
    "    with open(pickle_name, 'wb') as filename:\n",
    "        pickle.dump(iterator, filename)"
   ]
  },
  {
   "cell_type": "code",
   "execution_count": 16,
   "metadata": {},
   "outputs": [],
   "source": [
    "training_data = create_set()"
   ]
  },
  {
   "cell_type": "code",
   "execution_count": 19,
   "metadata": {},
   "outputs": [],
   "source": [
    "pickle_saver(training_data, 'train_augmented_images.pickle')"
   ]
  },
  {
   "cell_type": "code",
   "execution_count": 25,
   "metadata": {},
   "outputs": [],
   "source": [
    "src_folders = ['blight',\n",
    "             'esca',\n",
    "             'healthy',\n",
    "             'rot']"
   ]
  },
  {
   "cell_type": "code",
   "execution_count": 26,
   "metadata": {},
   "outputs": [],
   "source": [
    "data = create_set(src_folders)"
   ]
  },
  {
   "cell_type": "code",
   "execution_count": 28,
   "metadata": {},
   "outputs": [],
   "source": [
    "pickle_saver(data, 'test_images.pickle')"
   ]
  },
  {
   "cell_type": "code",
   "execution_count": null,
   "metadata": {},
   "outputs": [],
   "source": []
  }
 ],
 "metadata": {
  "kernelspec": {
   "display_name": "Python 3",
   "language": "python",
   "name": "python3"
  },
  "language_info": {
   "codemirror_mode": {
    "name": "ipython",
    "version": 3
   },
   "file_extension": ".py",
   "mimetype": "text/x-python",
   "name": "python",
   "nbconvert_exporter": "python",
   "pygments_lexer": "ipython3",
   "version": "3.7.4"
  }
 },
 "nbformat": 4,
 "nbformat_minor": 2
}
