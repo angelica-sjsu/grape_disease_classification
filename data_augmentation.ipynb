{
 "cells": [
  {
   "cell_type": "code",
   "execution_count": 1,
   "metadata": {},
   "outputs": [],
   "source": [
    "import glob\n",
    "import matplotlib.pyplot as plt\n",
    "import numpy as np\n",
    "import os\n",
    "from PIL import Image\n",
    "import tensorflow as tf\n",
    "from tensorflow.keras.preprocessing.image import img_to_array, array_to_img"
   ]
  },
  {
   "cell_type": "code",
   "execution_count": 2,
   "metadata": {},
   "outputs": [],
   "source": [
    "# paths of images to augment\n",
    "parent = 'images/'\n",
    "esca_dir = 'esca/'\n",
    "blight = 'blight/'\n",
    "rot = 'rot/'\n",
    "hl = 'healthy/'"
   ]
  },
  {
   "cell_type": "code",
   "execution_count": 3,
   "metadata": {},
   "outputs": [],
   "source": [
    "#image name place holder \n",
    "image_path = tf.placeholder(tf.string)\n",
    "\n",
    "#decode image\n",
    "image=tf.image.decode_jpeg(image_path,channels=3)\n",
    "\n",
    "# creating a placeholder for images. this helps me create augmentation nodes\n",
    "#img_placeholder = tf.placeholder(\"uint8\", [None, None, 3])\n",
    "flip_lr = tf.image.flip_left_right(image)\n",
    "flip_up = tf.image.flip_up_down(image)\n",
    "saturation = tf.image.adjust_saturation(image, 3)\n",
    "rot_90  = tf.image.rot90(image, k=1)\n",
    "rot_180 = tf.image.rot90(image, k=2)"
   ]
  },
  {
   "cell_type": "code",
   "execution_count": 4,
   "metadata": {},
   "outputs": [],
   "source": [
    "# get images\n",
    "def get_images(path, extension='.jpg'):\n",
    "    images_list = []\n",
    "    for filename in glob.glob(path + '/' + '*' + extension):\n",
    "        im = Image.open(filename)\n",
    "        images_list.append(im)    \n",
    "    return images_list"
   ]
  },
  {
   "cell_type": "code",
   "execution_count": 89,
   "metadata": {},
   "outputs": [],
   "source": [
    "def get_paths(path, extension='.jpg'):\n",
    "    paths = []\n",
    "    for file in os.listdir(path):        \n",
    "        paths.append(os.path.join(file))\n",
    "        \n",
    "    return paths"
   ]
  },
  {
   "cell_type": "code",
   "execution_count": 82,
   "metadata": {},
   "outputs": [],
   "source": [
    "augmentations = ['flip_hor',\n",
    "                 'flip_vert',\n",
    "                 'saturated',\n",
    "                 'rot_90',\n",
    "                 'rot_270']"
   ]
  },
  {
   "cell_type": "code",
   "execution_count": null,
   "metadata": {},
   "outputs": [],
   "source": [
    "def augmented_names(path):\n",
    "    if os.path.exists(path):\n",
    "        print ('augmented_path: #exists')\n",
    "    else:\n",
    "        os.mkdir(path)\n",
    "        print('augmented_path: #created')"
   ]
  },
  {
   "cell_type": "code",
   "execution_count": 83,
   "metadata": {},
   "outputs": [],
   "source": [
    "# augmenter\n",
    "def augmenter(image_path):#image name place holder \n",
    "    #read the image\n",
    "    image_path = tf.io.read_file(image_path)\n",
    "\n",
    "    #decode image the have the correct format\n",
    "    image=tf.image.decode_jpeg(image_path,channels=3)\n",
    "\n",
    "    # augmenters\n",
    "    flip_lr = tf.image.flip_left_right(image)\n",
    "    flip_up = tf.image.flip_up_down(image)\n",
    "    saturation = tf.image.adjust_saturation(image, 4)\n",
    "    rot_90  = tf.image.rot90(image, k=1)\n",
    "    rot_270 = tf.image.rot90(image, k=3)\n",
    "    \n",
    "    with tf.Session() as sess:\n",
    "        flip_hor,flip_vert, saturated, rot90, rot270 = sess.run([flip_lr,flip_up,saturation,rot_90,rot_270])\n",
    "        \n",
    "    return flip_hor,flip_vert, saturated, rot90, rot270"
   ]
  },
  {
   "cell_type": "code",
   "execution_count": 66,
   "metadata": {},
   "outputs": [],
   "source": [
    "def image_saver(images, path, extension='.jpg'):\n",
    "    paths = []\n",
    "    for img, augmentation in zip(images, augmentations):\n",
    "        img = array_to_img(img)\n",
    "        img.save(path + '_' + augmentation + '.jpg')\n",
    "        paths.append(path + '_' + augmentation + '.jpg')\n",
    "    return paths"
   ]
  },
  {
   "cell_type": "code",
   "execution_count": 90,
   "metadata": {},
   "outputs": [
    {
     "name": "stdout",
     "output_type": "stream",
     "text": [
      "augmented_path: #exists\n"
     ]
    }
   ],
   "source": [
    "esca_path = os.path.join(parent, esca_dir)\n",
    "esca_images = get_names(esca_path)\n",
    "# create dir for augmented images: useful for a check\n",
    "augmented_esca = os.path.join(parent, 'augmented_esca')\n",
    "augmented_path( augmented_esca )"
   ]
  },
  {
   "cell_type": "code",
   "execution_count": null,
   "metadata": {
    "scrolled": true
   },
   "outputs": [],
   "source": [
    "#iterate images\n",
    "for e in esca_images:\n",
    "    flip_h, flip_v, sat, rot90, rot270 = augmenter(os.path.join(esca_path,e))\n",
    "    paths = image_saver([flip_h, flip_v, sat, rot90, rot270], augmented_esca + '/' + e[:-4] )"
   ]
  },
  {
   "cell_type": "code",
   "execution_count": null,
   "metadata": {},
   "outputs": [],
   "source": [
    "#healthy \n",
    "healthy_path = os.path.join(parent, hl)\n",
    "hl_names = get_names(healthy_path)\n",
    "\n",
    "#create dir for augmented healthy\n",
    "augmented_healthy = os.path.join(parent, 'augmented_hl')\n",
    "augmented_path (augmented_healthy)"
   ]
  }
 ],
 "metadata": {
  "kernelspec": {
   "display_name": "Python 3",
   "language": "python",
   "name": "python3"
  },
  "language_info": {
   "codemirror_mode": {
    "name": "ipython",
    "version": 3
   },
   "file_extension": ".py",
   "mimetype": "text/x-python",
   "name": "python",
   "nbconvert_exporter": "python",
   "pygments_lexer": "ipython3",
   "version": "3.7.4"
  }
 },
 "nbformat": 4,
 "nbformat_minor": 2
}
